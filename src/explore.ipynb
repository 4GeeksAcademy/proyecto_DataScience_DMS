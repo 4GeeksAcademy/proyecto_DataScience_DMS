{
    "cells": [
        {
            "cell_type": "markdown",
            "metadata": {},
            "source": [
                "# Explore here"
            ]
        },
        {
            "cell_type": "code",
            "execution_count": 1,
            "metadata": {},
            "outputs": [],
            "source": [
                "def guardar_csv(data , url_archivo):\n",
                "    data.to_csv(url_archivo, index= True)"
            ]
        },
        {
            "cell_type": "code",
            "execution_count": 26,
            "metadata": {},
            "outputs": [
                {
                    "data": {
                        "text/html": [
                            "<div>\n",
                            "<style scoped>\n",
                            "    .dataframe tbody tr th:only-of-type {\n",
                            "        vertical-align: middle;\n",
                            "    }\n",
                            "\n",
                            "    .dataframe tbody tr th {\n",
                            "        vertical-align: top;\n",
                            "    }\n",
                            "\n",
                            "    .dataframe thead th {\n",
                            "        text-align: right;\n",
                            "    }\n",
                            "</style>\n",
                            "<table border=\"1\" class=\"dataframe\">\n",
                            "  <thead>\n",
                            "    <tr style=\"text-align: right;\">\n",
                            "      <th></th>\n",
                            "      <th>ID</th>\n",
                            "      <th>Título</th>\n",
                            "    </tr>\n",
                            "  </thead>\n",
                            "  <tbody>\n",
                            "    <tr>\n",
                            "      <th>0</th>\n",
                            "      <td>GFDEGDQ188S</td>\n",
                            "      <td>Federal Debt: Total Public Debt as Percent of ...</td>\n",
                            "    </tr>\n",
                            "    <tr>\n",
                            "      <th>1</th>\n",
                            "      <td>FYFSGDA188S</td>\n",
                            "      <td>Federal Surplus or Deficit [-] as Percent of G...</td>\n",
                            "    </tr>\n",
                            "    <tr>\n",
                            "      <th>2</th>\n",
                            "      <td>FYFSDFYGDP</td>\n",
                            "      <td>Federal Surplus or Deficit [-] as Percent of G...</td>\n",
                            "    </tr>\n",
                            "  </tbody>\n",
                            "</table>\n",
                            "</div>"
                        ],
                        "text/plain": [
                            "            ID                                             Título\n",
                            "0  GFDEGDQ188S  Federal Debt: Total Public Debt as Percent of ...\n",
                            "1  FYFSGDA188S  Federal Surplus or Deficit [-] as Percent of G...\n",
                            "2   FYFSDFYGDP  Federal Surplus or Deficit [-] as Percent of G..."
                        ]
                    },
                    "execution_count": 26,
                    "metadata": {},
                    "output_type": "execute_result"
                }
            ],
            "source": [
                "import pandas as pd\n",
                "import requests\n",
                "\n",
                "\n",
                "# Configura tu clave API\n",
                "api_key = \"16dbd1bdceb90ffd932425b7e5c279fd\"\n",
                "\n",
                "# Función para buscar series en FRED y obtener un listado completo\n",
                "def obtener_listado_series(query, limit=1000):\n",
                "    url = \"https://api.stlouisfed.org/fred/series/search\"\n",
                "    params = {\n",
                "        \"api_key\": api_key,\n",
                "        \"search_text\": query,\n",
                "        \"file_type\": \"json\",\n",
                "        \"limit\": limit  # Ajusta el límite si deseas más resultados\n",
                "    }\n",
                "    \n",
                "    response = requests.get(url, params=params)\n",
                "    data = response.json()\n",
                "    \n",
                "    # Verifica si hay resultados y retorna el listado\n",
                "    if 'seriess' in data:\n",
                "        series_list = [(serie['id'], serie['title']) for serie in data['seriess']]\n",
                "        return series_list\n",
                "    else:\n",
                "        print(\"No se encontraron series.\")\n",
                "        return []\n",
                "\n",
                "# Ejemplo de uso\n",
                "query = \"GDP\"  # Cambia la búsqueda según tus necesidades\n",
                "listado_series = obtener_listado_series(query)\n",
                "\n",
                "# Convertir a DataFrame\n",
                "df_series = pd.DataFrame(listado_series, columns=[\"ID\", \"Título\"])\n",
                "\n",
                "# Mostrar el DataFrame\n",
                "df_series.head(3)\n",
                "\n",
                "\n"
            ]
        },
        {
            "cell_type": "code",
            "execution_count": 27,
            "metadata": {},
            "outputs": [],
            "source": [
                "df_series.to_csv(\"../data/processed/listado_series.csv\", index=False, encoding='utf-8')"
            ]
        },
        {
            "cell_type": "code",
            "execution_count": 28,
            "metadata": {},
            "outputs": [
                {
                    "name": "stdout",
                    "output_type": "stream",
                    "text": [
                        "https://api.stlouisfed.org/fred/series/observations?series_id=CPIAUCSL&api_key\n"
                    ]
                },
                {
                    "data": {
                        "text/html": [
                            "<div>\n",
                            "<style scoped>\n",
                            "    .dataframe tbody tr th:only-of-type {\n",
                            "        vertical-align: middle;\n",
                            "    }\n",
                            "\n",
                            "    .dataframe tbody tr th {\n",
                            "        vertical-align: top;\n",
                            "    }\n",
                            "\n",
                            "    .dataframe thead th {\n",
                            "        text-align: right;\n",
                            "    }\n",
                            "</style>\n",
                            "<table border=\"1\" class=\"dataframe\">\n",
                            "  <thead>\n",
                            "    <tr style=\"text-align: right;\">\n",
                            "      <th></th>\n",
                            "      <th>realtime_start</th>\n",
                            "      <th>realtime_end</th>\n",
                            "      <th>observation_start</th>\n",
                            "      <th>observation_end</th>\n",
                            "      <th>units</th>\n",
                            "      <th>output_type</th>\n",
                            "      <th>file_type</th>\n",
                            "      <th>order_by</th>\n",
                            "      <th>sort_order</th>\n",
                            "      <th>count</th>\n",
                            "      <th>offset</th>\n",
                            "      <th>limit</th>\n",
                            "      <th>observations</th>\n",
                            "    </tr>\n",
                            "  </thead>\n",
                            "  <tbody>\n",
                            "    <tr>\n",
                            "      <th>0</th>\n",
                            "      <td>2021-01-01</td>\n",
                            "      <td>2023-12-31</td>\n",
                            "      <td>1600-01-01</td>\n",
                            "      <td>9999-12-31</td>\n",
                            "      <td>lin</td>\n",
                            "      <td>1</td>\n",
                            "      <td>json</td>\n",
                            "      <td>observation_date</td>\n",
                            "      <td>asc</td>\n",
                            "      <td>1103</td>\n",
                            "      <td>0</td>\n",
                            "      <td>100000</td>\n",
                            "      <td>{'realtime_start': '2021-01-01', 'realtime_end...</td>\n",
                            "    </tr>\n",
                            "    <tr>\n",
                            "      <th>1</th>\n",
                            "      <td>2021-01-01</td>\n",
                            "      <td>2023-12-31</td>\n",
                            "      <td>1600-01-01</td>\n",
                            "      <td>9999-12-31</td>\n",
                            "      <td>lin</td>\n",
                            "      <td>1</td>\n",
                            "      <td>json</td>\n",
                            "      <td>observation_date</td>\n",
                            "      <td>asc</td>\n",
                            "      <td>1103</td>\n",
                            "      <td>0</td>\n",
                            "      <td>100000</td>\n",
                            "      <td>{'realtime_start': '2021-01-01', 'realtime_end...</td>\n",
                            "    </tr>\n",
                            "    <tr>\n",
                            "      <th>2</th>\n",
                            "      <td>2021-01-01</td>\n",
                            "      <td>2023-12-31</td>\n",
                            "      <td>1600-01-01</td>\n",
                            "      <td>9999-12-31</td>\n",
                            "      <td>lin</td>\n",
                            "      <td>1</td>\n",
                            "      <td>json</td>\n",
                            "      <td>observation_date</td>\n",
                            "      <td>asc</td>\n",
                            "      <td>1103</td>\n",
                            "      <td>0</td>\n",
                            "      <td>100000</td>\n",
                            "      <td>{'realtime_start': '2021-01-01', 'realtime_end...</td>\n",
                            "    </tr>\n",
                            "  </tbody>\n",
                            "</table>\n",
                            "</div>"
                        ],
                        "text/plain": [
                            "  realtime_start realtime_end observation_start observation_end units  \\\n",
                            "0     2021-01-01   2023-12-31        1600-01-01      9999-12-31   lin   \n",
                            "1     2021-01-01   2023-12-31        1600-01-01      9999-12-31   lin   \n",
                            "2     2021-01-01   2023-12-31        1600-01-01      9999-12-31   lin   \n",
                            "\n",
                            "   output_type file_type          order_by sort_order  count  offset   limit  \\\n",
                            "0            1      json  observation_date        asc   1103       0  100000   \n",
                            "1            1      json  observation_date        asc   1103       0  100000   \n",
                            "2            1      json  observation_date        asc   1103       0  100000   \n",
                            "\n",
                            "                                        observations  \n",
                            "0  {'realtime_start': '2021-01-01', 'realtime_end...  \n",
                            "1  {'realtime_start': '2021-01-01', 'realtime_end...  \n",
                            "2  {'realtime_start': '2021-01-01', 'realtime_end...  "
                        ]
                    },
                    "execution_count": 28,
                    "metadata": {},
                    "output_type": "execute_result"
                }
            ],
            "source": [
                "import requests\n",
                "import pandas as pd\n",
                "\n",
                "# URL \n",
                "url_fed = \"https://api.stlouisfed.org/fred/series/observations?series_id=CPIAUCSL&api_key\"\n",
                "\n",
                "\n",
                "# Parámetros de la solicitud\n",
                "parametros_fed = {\n",
                "    \"api_key\": \"b6dca5032d89bde8384394e634438df6\",  \n",
                "    \"file_type\": \"json\" \n",
                "}\n",
                "\n",
                "def api_fed(url, parametros, realtime_start, realtime_end):\n",
                "\n",
                "# Añadir fechas de busqueda \n",
                "    parametros[\"realtime_start\"] = realtime_start\n",
                "    parametros[\"realtime_end\"] = realtime_end\n",
                "\n",
                "\n",
                "# Realizar la solicitud GET\n",
                "    response = requests.get(url, params=parametros)\n",
                "\n",
                "    print(url)\n",
                "\n",
                "# Verificar si la solicitud fue exitosa\n",
                "    if response.status_code == 200:\n",
                "    # Convertir la respuesta a formato JSON\n",
                "        data = response.json()\n",
                "    # Retorna la data \n",
                "        return data\n",
                "    else:\n",
                "        print(f\"Error en la solicitud: {response.status_code}\")\n",
                "\n",
                "\n",
                "data = api_fed(url_fed,parametros_fed, \"2021-01-01\", \"2023-12-31\")\n",
                "\n",
                "data_fed_cpi = pd.DataFrame(data)\n",
                "\n",
                "data_fed_cpi.head(3)"
            ]
        },
        {
            "cell_type": "code",
            "execution_count": 30,
            "metadata": {},
            "outputs": [
                {
                    "data": {
                        "text/plain": [
                            "Index(['realtime_start', 'realtime_end', 'observation_start',\n",
                            "       'observation_end', 'units', 'output_type', 'file_type', 'order_by',\n",
                            "       'sort_order', 'count', 'offset', 'limit', 'observations'],\n",
                            "      dtype='object')"
                        ]
                    },
                    "execution_count": 30,
                    "metadata": {},
                    "output_type": "execute_result"
                }
            ],
            "source": [
                "data_fed_cpi.columns"
            ]
        }
    ],
    "metadata": {
        "kernelspec": {
            "display_name": "Python 3",
            "language": "python",
            "name": "python3"
        },
        "language_info": {
            "codemirror_mode": {
                "name": "ipython",
                "version": 3
            },
            "file_extension": ".py",
            "mimetype": "text/x-python",
            "name": "python",
            "nbconvert_exporter": "python",
            "pygments_lexer": "ipython3",
            "version": "3.10.12"
        },
        "orig_nbformat": 4
    },
    "nbformat": 4,
    "nbformat_minor": 2
}

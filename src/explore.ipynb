{
    "cells": [
        {
            "cell_type": "markdown",
            "metadata": {},
            "source": [
                "# Explore here"
            ]
        },
        {
            "cell_type": "code",
            "execution_count": 9,
            "metadata": {},
            "outputs": [],
            "source": [
                "def guardar_csv(data , url_archivo):\n",
                "    data.to_csv(url_archivo, index= True)"
            ]
        },
        {
            "cell_type": "code",
            "execution_count": 16,
            "metadata": {},
            "outputs": [
                {
                    "data": {
                        "text/html": [
                            "<div>\n",
                            "<style scoped>\n",
                            "    .dataframe tbody tr th:only-of-type {\n",
                            "        vertical-align: middle;\n",
                            "    }\n",
                            "\n",
                            "    .dataframe tbody tr th {\n",
                            "        vertical-align: top;\n",
                            "    }\n",
                            "\n",
                            "    .dataframe thead th {\n",
                            "        text-align: right;\n",
                            "    }\n",
                            "</style>\n",
                            "<table border=\"1\" class=\"dataframe\">\n",
                            "  <thead>\n",
                            "    <tr style=\"text-align: right;\">\n",
                            "      <th></th>\n",
                            "      <th>ID</th>\n",
                            "      <th>Título</th>\n",
                            "    </tr>\n",
                            "  </thead>\n",
                            "  <tbody>\n",
                            "    <tr>\n",
                            "      <th>0</th>\n",
                            "      <td>CPIAUCSL</td>\n",
                            "      <td>Consumer Price Index for All Urban Consumers: ...</td>\n",
                            "    </tr>\n",
                            "    <tr>\n",
                            "      <th>1</th>\n",
                            "      <td>CPIAUCNS</td>\n",
                            "      <td>Consumer Price Index for All Urban Consumers: ...</td>\n",
                            "    </tr>\n",
                            "    <tr>\n",
                            "      <th>2</th>\n",
                            "      <td>CUUS0000SA0</td>\n",
                            "      <td>Consumer Price Index for All Urban Consumers: ...</td>\n",
                            "    </tr>\n",
                            "    <tr>\n",
                            "      <th>3</th>\n",
                            "      <td>CPILFESL</td>\n",
                            "      <td>Consumer Price Index for All Urban Consumers: ...</td>\n",
                            "    </tr>\n",
                            "    <tr>\n",
                            "      <th>4</th>\n",
                            "      <td>CORESTICKM159SFRBATL</td>\n",
                            "      <td>Sticky Price Consumer Price Index less Food an...</td>\n",
                            "    </tr>\n",
                            "  </tbody>\n",
                            "</table>\n",
                            "</div>"
                        ],
                        "text/plain": [
                            "                     ID                                             Título\n",
                            "0              CPIAUCSL  Consumer Price Index for All Urban Consumers: ...\n",
                            "1              CPIAUCNS  Consumer Price Index for All Urban Consumers: ...\n",
                            "2           CUUS0000SA0  Consumer Price Index for All Urban Consumers: ...\n",
                            "3              CPILFESL  Consumer Price Index for All Urban Consumers: ...\n",
                            "4  CORESTICKM159SFRBATL  Sticky Price Consumer Price Index less Food an..."
                        ]
                    },
                    "execution_count": 16,
                    "metadata": {},
                    "output_type": "execute_result"
                }
            ],
            "source": [
                "import pandas as pd\n",
                "import requests\n",
                "\n",
                "\n",
                "# Configura tu clave API\n",
                "api_key = \"16dbd1bdceb90ffd932425b7e5c279fd\"\n",
                "\n",
                "# Función para buscar series en FRED y obtener un listado completo\n",
                "def obtener_listado_series(query, limit=5):\n",
                "    url = \"https://api.stlouisfed.org/fred/series/search\"\n",
                "    params = {\n",
                "        \"api_key\": api_key,\n",
                "        \"search_text\": query,\n",
                "        \"file_type\": \"json\",\n",
                "        \"limit\": limit  # Ajusta el límite si deseas más resultados\n",
                "    }\n",
                "    \n",
                "    response = requests.get(url, params=params)\n",
                "    data = response.json()\n",
                "    \n",
                "    # Verifica si hay resultados y retorna el listado\n",
                "    if 'seriess' in data:\n",
                "        series_list = [(serie['id'], serie['title']) for serie in data['seriess']]\n",
                "        return series_list\n",
                "    else:\n",
                "        print(\"No se encontraron series.\")\n",
                "        return []\n",
                "\n",
                "# Ejemplo de uso\n",
                "query = \"cpi\"  # Cambia la búsqueda según tus necesidades\n",
                "listado_series = obtener_listado_series(query)\n",
                "\n",
                "# Convertir a DataFrame\n",
                "df_series = pd.DataFrame(listado_series, columns=[\"ID\", \"Título\"])\n",
                "\n",
                "# Mostrar el DataFrame\n",
                "df_series\n",
                "\n",
                "\n"
            ]
        },
        {
            "cell_type": "code",
            "execution_count": 11,
            "metadata": {},
            "outputs": [],
            "source": [
                "df_series.to_csv(\"../data/processed/listado_series.csv\", index=False, encoding='utf-8')"
            ]
        }
    ],
    "metadata": {
        "kernelspec": {
            "display_name": "Python 3",
            "language": "python",
            "name": "python3"
        },
        "language_info": {
            "codemirror_mode": {
                "name": "ipython",
                "version": 3
            },
            "file_extension": ".py",
            "mimetype": "text/x-python",
            "name": "python",
            "nbconvert_exporter": "python",
            "pygments_lexer": "ipython3",
            "version": "3.10.12"
        },
        "orig_nbformat": 4
    },
    "nbformat": 4,
    "nbformat_minor": 2
}
